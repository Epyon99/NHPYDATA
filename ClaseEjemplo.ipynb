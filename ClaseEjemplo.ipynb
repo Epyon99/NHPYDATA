{
 "cells": [
  {
   "cell_type": "code",
   "execution_count": 1,
   "id": "d163349a-105f-4b90-ba84-fc8365a36b02",
   "metadata": {},
   "outputs": [
    {
     "name": "stdout",
     "output_type": "stream",
     "text": [
      "Hola Mundo\n"
     ]
    }
   ],
   "source": [
    "print (\"Hola Mundo\")"
   ]
  },
  {
   "cell_type": "markdown",
   "id": "146fbc36-7735-488f-9b39-3f22a71a8eca",
   "metadata": {},
   "source": [
    "# Este texto sirve para explicar la linea superior\n",
    "\n",
    "- Lista\n",
    "- Item\n",
    "- Datos\n",
    "\n"
   ]
  },
  {
   "cell_type": "code",
   "execution_count": 1,
   "id": "f758cde7-df8e-4cd1-8add-39d62a4710c8",
   "metadata": {},
   "outputs": [],
   "source": [
    "var1 = 15\n",
    "var2 = 30"
   ]
  },
  {
   "cell_type": "code",
   "execution_count": null,
   "id": "397d329f-f1b0-4aed-a9cc-7dfb5b6ed7a6",
   "metadata": {},
   "outputs": [],
   "source": [
    "var3 = var1 "
   ]
  }
 ],
 "metadata": {
  "kernelspec": {
   "display_name": "Python 3 (ipykernel)",
   "language": "python",
   "name": "python3"
  },
  "language_info": {
   "codemirror_mode": {
    "name": "ipython",
    "version": 3
   },
   "file_extension": ".py",
   "mimetype": "text/x-python",
   "name": "python",
   "nbconvert_exporter": "python",
   "pygments_lexer": "ipython3",
   "version": "3.12.7"
  }
 },
 "nbformat": 4,
 "nbformat_minor": 5
}
