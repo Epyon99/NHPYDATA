{
 "cells": [
  {
   "cell_type": "markdown",
   "id": "1026ebaf-464d-4674-95cd-c21cd9a31a1a",
   "metadata": {},
   "source": [
    "# Crear una base de datos con los datos conocidos"
   ]
  },
  {
   "cell_type": "code",
   "execution_count": null,
   "id": "fd6b8426-45af-4db2-bd62-7a26603a88e4",
   "metadata": {},
   "outputs": [],
   "source": [
    "import pandas as pd\n",
    "from datetime import datetime\n",
    "from sqlalchemy import create_engine\n",
    "\n",
    "# Configurar SQL Alchemy\n",
    "sqlite_engine = create_engine(\"sqlite:///bdpersonas.bd\")\n",
    "path = '.'\n",
    "df_unificado = pd.DataFrame()\n",
    "lista_archivos = ['dataset.csv','data.csv','datapersonas.csv']\n",
    "time_now = datetime.now().strftime('%Y%m%dT%H%M%S')\n",
    "for file in lista_archivos:\n",
    "    data = pd.read_csv(os.path.join(path,file))\n",
    "    data['Fuente'] = file\n",
    "    data['HoraCarga'] = time_now\n",
    "    df_unificado = pd.concat([df_unificado,data]) # metodo que concatena la informacion\n",
    "print(df_unificado.info())\n",
    "# Guardar en BD\n",
    "df_unificado.to_sql('personas',sqlite_engine, if_exists='replace', index=False)\n",
    "print ('Datos enviados al a BD')"
   ]
  }
 ],
 "metadata": {
  "kernelspec": {
   "display_name": "Python 3 (ipykernel)",
   "language": "python",
   "name": "python3"
  },
  "language_info": {
   "codemirror_mode": {
    "name": "ipython",
    "version": 3
   },
   "file_extension": ".py",
   "mimetype": "text/x-python",
   "name": "python",
   "nbconvert_exporter": "python",
   "pygments_lexer": "ipython3",
   "version": "3.12.7"
  }
 },
 "nbformat": 4,
 "nbformat_minor": 5
}
