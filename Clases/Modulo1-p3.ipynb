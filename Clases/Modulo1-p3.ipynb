{
 "cells": [
  {
   "cell_type": "code",
   "execution_count": 28,
   "id": "cc759864-ecd9-4c2c-aba8-8383f5996d12",
   "metadata": {},
   "outputs": [
    {
     "data": {
      "text/plain": [
       "6"
      ]
     },
     "execution_count": 28,
     "metadata": {},
     "output_type": "execute_result"
    }
   ],
   "source": [
    "def sumar(lista):\n",
    "    pivote = 0\n",
    "    for i in lista:\n",
    "        pivote += i\n",
    "    return pivote\n",
    "\n",
    "sumar([1,2,3])"
   ]
  },
  {
   "cell_type": "code",
   "execution_count": 22,
   "id": "6086c947-cd51-4bef-a0c1-1eb7182a0feb",
   "metadata": {},
   "outputs": [
    {
     "data": {
      "text/plain": [
       "15"
      ]
     },
     "execution_count": 22,
     "metadata": {},
     "output_type": "execute_result"
    }
   ],
   "source": [
    "sumar([1,2,3,4,5])"
   ]
  },
  {
   "cell_type": "code",
   "execution_count": 10,
   "id": "d5aaf3c4-c0a8-400d-a6d1-4338e1815555",
   "metadata": {},
   "outputs": [],
   "source": [
    "def saludar():\n",
    "    x = 10\n"
   ]
  },
  {
   "cell_type": "code",
   "execution_count": 14,
   "id": "e9a1ef88-3795-4783-b8a2-e79bdfc2a58a",
   "metadata": {},
   "outputs": [
    {
     "name": "stdout",
     "output_type": "stream",
     "text": [
      "None\n"
     ]
    }
   ],
   "source": [
    "print(saludar())"
   ]
  },
  {
   "cell_type": "code",
   "execution_count": 16,
   "id": "7ec970b4-39d0-4dcf-b0c5-7ac9b8a4958f",
   "metadata": {},
   "outputs": [],
   "source": [
    "def nada():\n",
    "    pass"
   ]
  },
  {
   "cell_type": "code",
   "execution_count": 18,
   "id": "7943ad3d-85ea-4f5f-9dac-4f142abe23e1",
   "metadata": {},
   "outputs": [],
   "source": [
    "nada()"
   ]
  },
  {
   "cell_type": "code",
   "execution_count": 36,
   "id": "86b8962b-b449-4084-a6f2-fcb86aa4d400",
   "metadata": {},
   "outputs": [
    {
     "name": "stdout",
     "output_type": "stream",
     "text": [
      "499500\n"
     ]
    }
   ],
   "source": [
    "def testR(iteracion):\n",
    "    if (iteracion < 1000):\n",
    "        return iteracion + testR(iteracion + 1)\n",
    "    else:\n",
    "        return 0\n",
    "print (testR(1))"
   ]
  },
  {
   "cell_type": "code",
   "execution_count": 44,
   "id": "ed16f981-8ef4-4ca3-9732-30be27fc78df",
   "metadata": {},
   "outputs": [
    {
     "name": "stdout",
     "output_type": "stream",
     "text": [
      "9.0\n"
     ]
    }
   ],
   "source": [
    "import math\n",
    "print(math.sqrt(81))"
   ]
  },
  {
   "cell_type": "code",
   "execution_count": 46,
   "id": "d0cff242-9e51-4b7b-b861-e2b1a1336579",
   "metadata": {},
   "outputs": [
    {
     "ename": "NameError",
     "evalue": "name 'sumar_externo' is not defined",
     "output_type": "error",
     "traceback": [
      "\u001b[1;31m---------------------------------------------------------------------------\u001b[0m",
      "\u001b[1;31mNameError\u001b[0m                                 Traceback (most recent call last)",
      "Cell \u001b[1;32mIn[46], line 2\u001b[0m\n\u001b[0;32m      1\u001b[0m \u001b[38;5;28;01mimport\u001b[39;00m \u001b[38;5;21;01mcustom\u001b[39;00m\n\u001b[1;32m----> 2\u001b[0m \u001b[38;5;28mprint\u001b[39m (sumar_externo(\u001b[38;5;241m1\u001b[39m,\u001b[38;5;241m2\u001b[39m))\n",
      "\u001b[1;31mNameError\u001b[0m: name 'sumar_externo' is not defined"
     ]
    }
   ],
   "source": [
    "import custom\n",
    "print (sumar_externo(1,2))"
   ]
  },
  {
   "cell_type": "code",
   "execution_count": null,
   "id": "cafe992b-ae9b-4b34-a59a-1523b3637dfd",
   "metadata": {},
   "outputs": [],
   "source": []
  }
 ],
 "metadata": {
  "kernelspec": {
   "display_name": "Python 3 (ipykernel)",
   "language": "python",
   "name": "python3"
  },
  "language_info": {
   "codemirror_mode": {
    "name": "ipython",
    "version": 3
   },
   "file_extension": ".py",
   "mimetype": "text/x-python",
   "name": "python",
   "nbconvert_exporter": "python",
   "pygments_lexer": "ipython3",
   "version": "3.12.7"
  }
 },
 "nbformat": 4,
 "nbformat_minor": 5
}
