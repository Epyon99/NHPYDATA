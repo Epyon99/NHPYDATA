{
 "cells": [
  {
   "cell_type": "code",
   "execution_count": 11,
   "id": "70f7f949-4a88-4160-a998-26d29124584b",
   "metadata": {},
   "outputs": [
    {
     "name": "stdout",
     "output_type": "stream",
     "text": [
      "['aloh', 'esalc', 'odnum', 'aicilA']\n"
     ]
    }
   ],
   "source": [
    "def funcion_propia(palabra):\n",
    "    return str(palabra)[::-1]\n",
    "# MAP \n",
    "palabras = ['hola', 'clase', 'mundo','Alicia']\n",
    "for palabra in palabras:\n",
    "    pass\n",
    "    #print (str.upper(palabra))\n",
    "\n",
    "map_result = map(funcion_propia,palabras)\n",
    "print (list(map_result))"
   ]
  },
  {
   "cell_type": "code",
   "execution_count": 21,
   "id": "70d966fd-d523-4a82-9f03-0f7ced944f01",
   "metadata": {},
   "outputs": [
    {
     "name": "stdout",
     "output_type": "stream",
     "text": [
      "set()\n"
     ]
    }
   ],
   "source": [
    "# FILTER\n",
    "numeros = [1,2,3,4,5,6,7]\n",
    "filter_impares = filter(lambda numero: numero % 2 != 0, numeros)\n",
    "print (set(filter_impares))"
   ]
  }
 ],
 "metadata": {
  "kernelspec": {
   "display_name": "Python 3 (ipykernel)",
   "language": "python",
   "name": "python3"
  },
  "language_info": {
   "codemirror_mode": {
    "name": "ipython",
    "version": 3
   },
   "file_extension": ".py",
   "mimetype": "text/x-python",
   "name": "python",
   "nbconvert_exporter": "python",
   "pygments_lexer": "ipython3",
   "version": "3.12.7"
  }
 },
 "nbformat": 4,
 "nbformat_minor": 5
}
