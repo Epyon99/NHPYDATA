{
 "cells": [
  {
   "cell_type": "code",
   "execution_count": 1,
   "id": "3b58f8ef-2360-42b4-bd80-8b9081a9f2cf",
   "metadata": {},
   "outputs": [
    {
     "name": "stdout",
     "output_type": "stream",
     "text": [
      "0    A\n",
      "1    B\n",
      "2    C\n",
      "3    D\n",
      "Name: Mineral, dtype: object 0    10\n",
      "1    20\n",
      "2    30\n",
      "3    40\n",
      "Name: Concentracion, dtype: int64\n"
     ]
    }
   ],
   "source": [
    "import pandas as pd\n",
    "\n",
    "data = {'Mineral': ['A','B','C','D'],\n",
    "        'Concentracion':[10,20,30,40]}\n",
    "\n",
    "df = pd.DataFrame(data)\n",
    "print (df['Mineral'], df['Concentracion'])"
   ]
  },
  {
   "cell_type": "code",
   "execution_count": 2,
   "id": "9de57f37-e0e3-4549-b62c-7f39c0975a57",
   "metadata": {},
   "outputs": [
    {
     "name": "stdout",
     "output_type": "stream",
     "text": [
      "0    10\n",
      "1    20\n",
      "2    30\n",
      "3    40\n",
      "Name: Concentracion, dtype: int64\n",
      "25.0\n",
      "0    15\n",
      "1    25\n",
      "2    35\n",
      "3    45\n",
      "Name: Concentracion, dtype: int64\n",
      "RangeIndex(start=0, stop=4, step=1)\n",
      "30\n"
     ]
    }
   ],
   "source": [
    "serie = pd.Series(df['Concentracion'])\n",
    "\n",
    "#print (serie['Mineral'])#\n",
    "print (serie)\n",
    "print (serie.mean())\n",
    "print (serie + 5)\n",
    "print (serie.index)\n",
    "print (serie.values[2])"
   ]
  },
  {
   "cell_type": "code",
   "execution_count": 18,
   "id": "14756949-bd47-4389-97cc-1138deada7dd",
   "metadata": {},
   "outputs": [
    {
     "name": "stdout",
     "output_type": "stream",
     "text": [
      "    Name  Age  Height  Weight\n",
      "0   John   28     175      70\n",
      "1  Alice   24     160      55\n",
      "2    Bob   30     180      80\n",
      "3  Diana   22     165      60\n",
      "4   John   28     175      70\n",
      "      Name  Age  Height  Weight\n",
      "273  Alice   24     160      55\n",
      "274    Bob   30     180      80\n",
      "275  Diana   22     165      60\n",
      "276   John   28     175      70\n",
      "277  Alice   24     160      55\n",
      "278    Bob   30     180      80\n",
      "279  Diana   22     165      60\n",
      "280   John   28     175      70\n",
      "281  Alice   24     160      55\n",
      "282    Bob   30     180      80\n",
      "283  Diana   22     165      60\n",
      "284   John   28     175      70\n",
      "285  Alice   24     160      55\n",
      "286    Bob   30     180      80\n",
      "287  Diana   22     165      60\n"
     ]
    }
   ],
   "source": [
    "df = pd.read_csv('datapersonas.csv')\n",
    "print(df.head())\n",
    "print(df.tail(15))"
   ]
  },
  {
   "cell_type": "code",
   "execution_count": 4,
   "id": "0c62358a-cc2b-4cee-a5cb-a1c335006149",
   "metadata": {},
   "outputs": [
    {
     "data": {
      "text/html": [
       "<div>\n",
       "<style scoped>\n",
       "    .dataframe tbody tr th:only-of-type {\n",
       "        vertical-align: middle;\n",
       "    }\n",
       "\n",
       "    .dataframe tbody tr th {\n",
       "        vertical-align: top;\n",
       "    }\n",
       "\n",
       "    .dataframe thead th {\n",
       "        text-align: right;\n",
       "    }\n",
       "</style>\n",
       "<table border=\"1\" class=\"dataframe\">\n",
       "  <thead>\n",
       "    <tr style=\"text-align: right;\">\n",
       "      <th></th>\n",
       "      <th>Age</th>\n",
       "      <th>Height</th>\n",
       "      <th>Weight</th>\n",
       "    </tr>\n",
       "  </thead>\n",
       "  <tbody>\n",
       "    <tr>\n",
       "      <th>0</th>\n",
       "      <td>28</td>\n",
       "      <td>175</td>\n",
       "      <td>70</td>\n",
       "    </tr>\n",
       "    <tr>\n",
       "      <th>1</th>\n",
       "      <td>24</td>\n",
       "      <td>160</td>\n",
       "      <td>55</td>\n",
       "    </tr>\n",
       "    <tr>\n",
       "      <th>2</th>\n",
       "      <td>30</td>\n",
       "      <td>180</td>\n",
       "      <td>80</td>\n",
       "    </tr>\n",
       "    <tr>\n",
       "      <th>3</th>\n",
       "      <td>22</td>\n",
       "      <td>165</td>\n",
       "      <td>60</td>\n",
       "    </tr>\n",
       "  </tbody>\n",
       "</table>\n",
       "</div>"
      ],
      "text/plain": [
       "   Age  Height  Weight\n",
       "0   28     175      70\n",
       "1   24     160      55\n",
       "2   30     180      80\n",
       "3   22     165      60"
      ]
     },
     "execution_count": 4,
     "metadata": {},
     "output_type": "execute_result"
    }
   ],
   "source": [
    "#df = pd.read_csv('data.csv')\n",
    "#df.head()"
   ]
  },
  {
   "cell_type": "code",
   "execution_count": 20,
   "id": "1e6c1567-9956-4067-b7af-3335c56727d7",
   "metadata": {},
   "outputs": [
    {
     "name": "stdout",
     "output_type": "stream",
     "text": [
      "              Age      Height      Weight\n",
      "count  288.000000  288.000000  288.000000\n",
      "mean    26.000000  170.000000   66.250000\n",
      "std      3.167782    7.919455    9.618145\n",
      "min     22.000000  160.000000   55.000000\n",
      "25%     23.500000  163.750000   58.750000\n",
      "50%     26.000000  170.000000   65.000000\n",
      "75%     28.500000  176.250000   72.500000\n",
      "max     30.000000  180.000000   80.000000\n"
     ]
    }
   ],
   "source": [
    "my_stats = df.describe()\n",
    "print (my_stats)"
   ]
  },
  {
   "cell_type": "code",
   "execution_count": 24,
   "id": "bc31d2a1-d06c-4d04-af48-870c6720a188",
   "metadata": {},
   "outputs": [
    {
     "data": {
      "text/plain": [
       "<bound method DataFrame.info of       Name  Age  Height  Weight\n",
       "0     John   28     175      70\n",
       "1    Alice   24     160      55\n",
       "2      Bob   30     180      80\n",
       "3    Diana   22     165      60\n",
       "4     John   28     175      70\n",
       "..     ...  ...     ...     ...\n",
       "283  Diana   22     165      60\n",
       "284   John   28     175      70\n",
       "285  Alice   24     160      55\n",
       "286    Bob   30     180      80\n",
       "287  Diana   22     165      60\n",
       "\n",
       "[288 rows x 4 columns]>"
      ]
     },
     "execution_count": 24,
     "metadata": {},
     "output_type": "execute_result"
    }
   ],
   "source": [
    "df.info"
   ]
  },
  {
   "cell_type": "code",
   "execution_count": 28,
   "id": "398eae3e-6a0b-4b46-8339-0ef948ec87b2",
   "metadata": {},
   "outputs": [
    {
     "name": "stdout",
     "output_type": "stream",
     "text": [
      "Name      Alice\n",
      "Age          24\n",
      "Height      160\n",
      "Weight       55\n",
      "Name: 1, dtype: object\n",
      "Height    160\n",
      "Age        24\n",
      "Name: 1, dtype: object\n"
     ]
    }
   ],
   "source": [
    "fila = df.loc[1]\n",
    "print (fila)\n",
    "mfila = df.loc[1,['Height','Age']]\n",
    "print (mfila)"
   ]
  },
  {
   "cell_type": "code",
   "execution_count": 30,
   "id": "6cdeb2f4-fa1c-4ab8-8da3-f32e1e83a301",
   "metadata": {},
   "outputs": [
    {
     "name": "stdout",
     "output_type": "stream",
     "text": [
      "Name      Alice\n",
      "Age          24\n",
      "Height      160\n",
      "Weight       55\n",
      "Name: 1, dtype: object\n",
      "Name      Alice\n",
      "Weight       55\n",
      "Name: 1, dtype: object\n"
     ]
    }
   ],
   "source": [
    "fila = df.iloc[1]\n",
    "print (fila)\n",
    "mfila = df.iloc[1,[0,3]]\n",
    "print (mfila)"
   ]
  },
  {
   "cell_type": "code",
   "execution_count": 36,
   "id": "e17c00ca-263c-48e3-a63f-b7be3b7aa3f3",
   "metadata": {},
   "outputs": [
    {
     "name": "stdout",
     "output_type": "stream",
     "text": [
      "    Name  Age  Height  Weight\n",
      "0   John   28     175      70\n",
      "1  Alice   24     160      55\n",
      "2    Bob   30     180      80\n",
      "3  Diana   22     165      60\n",
      "4   John   28     175      70\n",
      "    Name  Age  Height  Weight\n",
      "0   John   28     175      70\n",
      "1  Alice   24     160      55\n",
      "2    Bob   30     180      80\n",
      "3  Diana   22     165      60\n",
      "4   John   28     175      70\n"
     ]
    }
   ],
   "source": [
    "# Cada copia de un DF\n",
    "# \n",
    "copia = df\n",
    "df_sin_fila = copia.drop(50)\n",
    "print(copia.head())\n",
    "print(df_sin_fila.head())"
   ]
  },
  {
   "cell_type": "code",
   "execution_count": 40,
   "id": "fcb6a4ce-7442-4d58-a97f-73436df690f2",
   "metadata": {},
   "outputs": [
    {
     "name": "stdout",
     "output_type": "stream",
     "text": [
      "<pandas.core.groupby.generic.DataFrameGroupBy object at 0x00000258B5624D10>\n",
      "Name\n",
      "Alice    72\n",
      "Bob      72\n",
      "Diana    72\n",
      "John     72\n",
      "dtype: int64\n"
     ]
    }
   ],
   "source": [
    "mod = df.groupby('Name')\n",
    "print (mod)\n",
    "print (mod.size())"
   ]
  },
  {
   "cell_type": "code",
   "execution_count": 44,
   "id": "5326ffb6-00c4-4e5f-bc50-22aa5b611529",
   "metadata": {},
   "outputs": [
    {
     "name": "stdout",
     "output_type": "stream",
     "text": [
      "   Name  Age_x  Height_x  Weight_x  Age_y  Height_y  Weight_y\n",
      "0  John     28       175        70     28       175        70\n",
      "1  John     28       175        70     28       175        70\n",
      "2  John     28       175        70     28       175        70\n",
      "3  John     28       175        70     28       175        70\n",
      "4  John     28       175        70     28       175        70\n"
     ]
    }
   ],
   "source": [
    "df1 = df\n",
    "df2 = df\n",
    "df_merge = pd.merge(df,df2, on='Name')\n",
    "print(df_merge.head())"
   ]
  },
  {
   "cell_type": "code",
   "execution_count": 64,
   "id": "f38baf1b-556b-4867-8f0f-b4ea7670cab0",
   "metadata": {},
   "outputs": [
    {
     "name": "stdout",
     "output_type": "stream",
     "text": [
      "     Name   Age  Height  Weight\n",
      "0  Alicia  28.0     NaN    70.0\n",
      "1     NaN  24.0   160.0    55.0\n",
      "2   Julio  30.0   180.0     NaN\n",
      "3   Ronny   NaN    60.0   165.0\n",
      "     Name   Age  Height  Weight\n",
      "0  Alicia  28.0     0.0    70.0\n",
      "1       0  24.0   160.0    55.0\n",
      "2   Julio  30.0   180.0     0.0\n",
      "3   Ronny   0.0    60.0   165.0\n",
      "          Name        Age  Height  Weight\n",
      "0       Alicia  28.000000     NaN    70.0\n",
      "1  Desconocido  24.000000   160.0    55.0\n",
      "2        Julio  30.000000   180.0     NaN\n",
      "3        Ronny  27.333333    60.0   165.0\n",
      "          Name        Age  Height  Weight\n",
      "1  Desconocido  24.000000   160.0    55.0\n",
      "0       Alicia  28.000000     NaN    70.0\n",
      "3        Ronny  27.333333    60.0   165.0\n",
      "2        Julio  30.000000   180.0     NaN\n"
     ]
    }
   ],
   "source": [
    "df_short = pd.read_csv('data.csv')\n",
    "print (df_short.head())\n",
    "df_fix1 = df_short.fillna(0)\n",
    "print (df_fix1.head())\n",
    "df_fix2 = df_short\n",
    "\n",
    "df_fix2['Age'] = df_fix2['Age'].fillna(df_fix2['Age'].mean())\n",
    "df_fix3 = df_fix2.copy()\n",
    "df_fix3['Name'] = df_fix3['Name'].fillna('Desconocido')\n",
    "print (df_fix3.head())\n",
    "print (df_fix3.sort_values(by='Weight'))"
   ]
  },
  {
   "cell_type": "code",
   "execution_count": 66,
   "id": "8e6f5763-8724-4581-adf6-b634b08833b4",
   "metadata": {},
   "outputs": [],
   "source": [
    "df_fix3.to_csv('dffix3.csv')"
   ]
  },
  {
   "cell_type": "code",
   "execution_count": 76,
   "id": "af12211f-dd18-44b2-9d73-2e31c0024086",
   "metadata": {},
   "outputs": [
    {
     "name": "stdout",
     "output_type": "stream",
     "text": [
      "0      75\n",
      "1     165\n",
      "2     702\n",
      "3    1655\n",
      "Name: Weight, dtype: int64\n",
      "<class 'pandas.core.series.Series'>\n",
      "75\n",
      "     Name   Age  Height  Weight\n",
      "0  Alicia  28.0     NaN      75\n",
      "1     NaN  24.0   160.0    1655\n",
      "2   Julio  30.0   180.0     702\n",
      "3   Ronny   NaN    60.0     165\n"
     ]
    }
   ],
   "source": [
    "df_short = pd.read_csv('data.csv')\n",
    "moda = df_short['Weight'].mode()\n",
    "print (moda)\n",
    "print (type(moda))\n",
    "print (moda[0])\n",
    "print (df_short)\n",
    "print (df_short['Weight'].mean())\n",
    "print (df_short['Weight'].meadian())"
   ]
  },
  {
   "cell_type": "code",
   "execution_count": null,
   "id": "cbd0bcd7-d3d7-43be-9691-2ead54a790ec",
   "metadata": {},
   "outputs": [],
   "source": []
  }
 ],
 "metadata": {
  "kernelspec": {
   "display_name": "Python 3 (ipykernel)",
   "language": "python",
   "name": "python3"
  },
  "language_info": {
   "codemirror_mode": {
    "name": "ipython",
    "version": 3
   },
   "file_extension": ".py",
   "mimetype": "text/x-python",
   "name": "python",
   "nbconvert_exporter": "python",
   "pygments_lexer": "ipython3",
   "version": "3.12.7"
  }
 },
 "nbformat": 4,
 "nbformat_minor": 5
}
