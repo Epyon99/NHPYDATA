{
 "cells": [
  {
   "cell_type": "code",
   "execution_count": 109,
   "id": "a445c888-e987-41a8-b4de-e234d015ad0c",
   "metadata": {},
   "outputs": [
    {
     "name": "stdin",
     "output_type": "stream",
     "text": [
      "ingresa un valor \n",
      " 14\n"
     ]
    },
    {
     "name": "stdout",
     "output_type": "stream",
     "text": [
      "Es mayor que 10 y par\n"
     ]
    }
   ],
   "source": [
    "# Ejemplos de IF \n",
    "\n",
    "condicion = False\n",
    "condicion2 = False\n",
    "condicion3 = 10 == 10\n",
    "\n",
    "datos = int(input (\"ingresa un valor \\n\"))\n",
    "if (datos < 5):\n",
    "    print (\"Datos es Menor que 5\")\n",
    "elif (datos < 10):\n",
    "    print (\"Datos es menor que 10\")\n",
    "elif (datos % 2 == 0):\n",
    "    print (\"Es mayor que 10 y par\")\n",
    "else:\n",
    "    print (\"Es mayor que 10\")\n",
    "\n"
   ]
  },
  {
   "cell_type": "code",
   "execution_count": 19,
   "id": "9b017bf5-cd22-4145-8d46-04f3b53a37e2",
   "metadata": {},
   "outputs": [
    {
     "name": "stdout",
     "output_type": "stream",
     "text": [
      "x\n",
      "Desencadena 2\n",
      "Desencadena 3\n"
     ]
    }
   ],
   "source": [
    "if (False):\n",
    "    print (\"la condicion es verdadera\")\n",
    "elif (False):\n",
    "    print (\"La condicion2 es verdadera\")\n",
    "elif (True):\n",
    "    print (\"x\")\n",
    "else:\n",
    "    print (\"Ninguna de las anteriores\")\n",
    "    \n",
    "if (True):\n",
    "    print (\"Desencadena 2\")\n",
    "\n",
    "\n",
    "if (True):\n",
    "    print (\"Desencadena 3\")\n",
    "\n",
    "\n"
   ]
  },
  {
   "cell_type": "code",
   "execution_count": 25,
   "id": "cbbe8708-908c-488b-be6f-5d08658ad48d",
   "metadata": {},
   "outputs": [
    {
     "name": "stdout",
     "output_type": "stream",
     "text": [
      "0\n",
      "1\n",
      "2\n",
      "3\n",
      "4\n"
     ]
    }
   ],
   "source": [
    "# Estructura While\n",
    "\n",
    "i = 0\n",
    "while i < 5:\n",
    "    print (i)\n",
    "    i = i + 1\n",
    "\n"
   ]
  },
  {
   "cell_type": "code",
   "execution_count": 39,
   "id": "3c659605-7fc5-47bf-81a7-a9592c3c3356",
   "metadata": {},
   "outputs": [
    {
     "name": "stdout",
     "output_type": "stream",
     "text": [
      "3\n",
      "4\n",
      "5\n",
      "6\n",
      "[1, 2, 3, 4]\n"
     ]
    }
   ],
   "source": [
    "# Estructura For\n",
    "l = [1,2,3,4] \n",
    "#print (l[0])\n",
    "t = (1,2,3,4)\n",
    "#print (t[0])\n",
    "s = {1,2,3,4}\n",
    "\n",
    "for i in l:\n",
    "    i = i + 1\n",
    "    print(i + 1)\n",
    "\n",
    "print (l)"
   ]
  },
  {
   "cell_type": "code",
   "execution_count": 59,
   "id": "bcc7f6bf-56de-48cd-a5ea-7182994c07f0",
   "metadata": {},
   "outputs": [
    {
     "name": "stdout",
     "output_type": "stream",
     "text": [
      "9\n",
      "5\n",
      "-1\n",
      "6\n",
      "0.6666666666666666\n",
      "0\n",
      "2\n",
      "8\n"
     ]
    }
   ],
   "source": [
    "# operadores aritmeticos\n",
    "a = 2\n",
    "b = 3\n",
    "c = 4\n",
    "#c = 5\n",
    "#c = c + 5\n",
    "print (c)\n",
    "print (a+b) #suma\n",
    "print (a-b) # resta\n",
    "print (a*b) #multiplica\n",
    "print (a/b) #division\n",
    "print (a//b) #division entera\n",
    "print (a%b) # modulo (residio de division entera)\n",
    "print (a**b) # pontecia"
   ]
  },
  {
   "cell_type": "code",
   "execution_count": 45,
   "id": "acf6b39c-568c-44df-997f-f096c56670e8",
   "metadata": {},
   "outputs": [
    {
     "name": "stdout",
     "output_type": "stream",
     "text": [
      "True\n",
      "False\n",
      "False\n",
      "False\n",
      "True\n",
      "True\n"
     ]
    }
   ],
   "source": [
    "a = 2\n",
    "b = 2\n",
    "\n",
    "print ( a == b)\n",
    "print (a != b)\n",
    "print ( a < b)\n",
    "print ( a > b)\n",
    "print ( a >= b)\n",
    "print ( a <= b)"
   ]
  },
  {
   "cell_type": "code",
   "execution_count": 55,
   "id": "24616062-82be-47ed-bab2-8b95ad7138f4",
   "metadata": {},
   "outputs": [
    {
     "name": "stdout",
     "output_type": "stream",
     "text": [
      "True\n",
      "False\n",
      "False\n",
      "True\n",
      "True\n",
      "False\n",
      "False\n",
      "True\n",
      "True\n"
     ]
    }
   ],
   "source": [
    "c = True\n",
    "b = False\n",
    "# Operador Y (and)\n",
    "print (c and c) # devuelve verdadero\n",
    "print (c and b) # devuelve falso\n",
    "print (b and b) # devuelve falso\n",
    "\n",
    "# Operador O (or)\n",
    "print (c or c) # verdadero\n",
    "print (c or b) # verdadero\n",
    "print (b or b) # Falso\n",
    "\n",
    "# Operador No (not)\n",
    "print (not c) # falso\n",
    "print (not b) # true\n",
    "print (not not c) #verdadero"
   ]
  },
  {
   "cell_type": "code",
   "execution_count": 75,
   "id": "9b2ca669-26aa-4961-acfb-8d8ef780f4f9",
   "metadata": {},
   "outputs": [
    {
     "name": "stdout",
     "output_type": "stream",
     "text": [
      "True\n",
      "[1, 2, 3, 4]\n",
      "[1, 2, 3]\n"
     ]
    }
   ],
   "source": [
    "# Operador de identidad\n",
    "x =[1,2,3]\n",
    "y = x\n",
    "y = y + [4]\n",
    "print (x is not y)\n",
    "print (y)\n",
    "print (x)"
   ]
  },
  {
   "cell_type": "code",
   "execution_count": 83,
   "id": "416053a4-ad10-4aac-b308-ba8729d9ab41",
   "metadata": {},
   "outputs": [
    {
     "name": "stdout",
     "output_type": "stream",
     "text": [
      "False\n"
     ]
    }
   ],
   "source": [
    "# Operador de Pertenencia\n",
    "x = [1,3,4,5]\n",
    "print (3 not in x)"
   ]
  },
  {
   "cell_type": "code",
   "execution_count": null,
   "id": "4e0b2984-88c9-4001-9e86-ac87ce972ded",
   "metadata": {},
   "outputs": [],
   "source": [
    "# Escribir un programa de detecte un palindro\n",
    "# OSO es un palindromo\n",
    "\n",
    "# programa que calcule el factorial. 5! = 5*4*3*2*1\n",
    "\n",
    "# Escribir un programa que haga la ecuacion de Einstein | E = mc^2"
   ]
  }
 ],
 "metadata": {
  "kernelspec": {
   "display_name": "Python 3 (ipykernel)",
   "language": "python",
   "name": "python3"
  },
  "language_info": {
   "codemirror_mode": {
    "name": "ipython",
    "version": 3
   },
   "file_extension": ".py",
   "mimetype": "text/x-python",
   "name": "python",
   "nbconvert_exporter": "python",
   "pygments_lexer": "ipython3",
   "version": "3.12.7"
  }
 },
 "nbformat": 4,
 "nbformat_minor": 5
}
