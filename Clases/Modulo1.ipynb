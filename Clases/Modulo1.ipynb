{
 "cells": [
  {
   "cell_type": "code",
   "execution_count": 11,
   "id": "da871a52-f954-462f-9da4-1a8d985a9ae2",
   "metadata": {},
   "outputs": [
    {
     "name": "stdout",
     "output_type": "stream",
     "text": [
      "Hola Mundo... Ctrl + Enter\n"
     ]
    }
   ],
   "source": [
    "print (\"Hola Mundo... Ctrl + Enter\")"
   ]
  },
  {
   "cell_type": "code",
   "execution_count": 1,
   "id": "8631bd70-6930-4f5b-b12e-5056be8c3ef7",
   "metadata": {},
   "outputs": [
    {
     "name": "stdout",
     "output_type": "stream",
     "text": [
      "25\n"
     ]
    }
   ],
   "source": [
    "x = 10\n",
    "y = 15\n",
    "z = x + y\n",
    "print (z)"
   ]
  },
  {
   "cell_type": "code",
   "execution_count": 3,
   "id": "c8452b02-59bb-4a28-bc91-1cfae51db4f1",
   "metadata": {},
   "outputs": [],
   "source": [
    "v = True\n",
    "f = False"
   ]
  },
  {
   "cell_type": "code",
   "execution_count": 25,
   "id": "8fa753b5-6a8f-4931-ba4e-2db8eeebd664",
   "metadata": {},
   "outputs": [
    {
     "name": "stdout",
     "output_type": "stream",
     "text": [
      "[1, 2, 3, 'cuatro', 5.0]\n",
      "1\n",
      "{1, 2, 3, 5.0, 'cuatro'}\n",
      "(1, 2, 3, 'cuatro', 5.0)\n",
      "3\n",
      "{'a': 1, 'b': 2, 'c': 3}\n",
      "1\n"
     ]
    }
   ],
   "source": [
    "l = [1,2,3,\"cuatro\",5.0] # Crea una lista\n",
    "print (l)\n",
    "print (l[0])\n",
    "ss = {1,2,3,4,5.0} # Crea un set\n",
    "print (s)\n",
    "t = (1,2,3,\"cuatro\",5.0) # Crea una tupla\n",
    "print (t)\n",
    "print (t[2])\n",
    "d = {\"a\":1,\"b\":2,\"c\":3} # Crea un diccionario.\n",
    "print (d)\n",
    "print (d[\"a\"])"
   ]
  },
  {
   "cell_type": "code",
   "execution_count": 41,
   "id": "0e9398b4-54de-473c-b6e7-84cea4866717",
   "metadata": {},
   "outputs": [
    {
     "name": "stdout",
     "output_type": "stream",
     "text": [
      "0b11111111\n",
      "0xff\n",
      "255\n"
     ]
    },
    {
     "data": {
      "text/plain": [
       "str"
      ]
     },
     "execution_count": 41,
     "metadata": {},
     "output_type": "execute_result"
    }
   ],
   "source": [
    "x = 255\n",
    "print ( bin(x))\n",
    "print ( hex(x))\n",
    "b = bin(x)\n",
    "print (int(hex(x),16)) # Con base del origen\n",
    "#print (int(b))\n",
    "\n",
    "type(b)"
   ]
  },
  {
   "cell_type": "markdown",
   "id": "a6df7a4c-f56b-4675-bf60-ed7b87f093fe",
   "metadata": {},
   "source": [
    "# Ejemplo de conversion de tipos\n",
    "- Un ejemplo para cada tipo de datos\n",
    "- int\n",
    "- float\n",
    "- string"
   ]
  },
  {
   "cell_type": "code",
   "execution_count": 53,
   "id": "b8e3f944-9617-4565-bd99-26e7199b9f9d",
   "metadata": {},
   "outputs": [
    {
     "name": "stdout",
     "output_type": "stream",
     "text": [
      "<class 'float'>\n",
      "200.0\n",
      "<class 'str'>\n",
      "200.0\n",
      "<class 'int'>\n",
      "200\n",
      "<class 'int'>\n",
      "200\n"
     ]
    }
   ],
   "source": [
    "# Convertir entre tipos.\n",
    "numero = 200\n",
    "\n",
    "f = float(numero)\n",
    "print (type (f)) # Type indica el tipo de datos que estamos almacenando en la variable\n",
    "print(f)\n",
    "\n",
    "s = str (f)\n",
    "print (type (s))\n",
    "print (s)\n",
    "\n",
    "i = int (float(s))\n",
    "i2 = int (f)\n",
    "\n",
    "print (type (i))\n",
    "print (i)\n",
    "print (type (i2))\n",
    "print (i2)"
   ]
  },
  {
   "cell_type": "code",
   "execution_count": 71,
   "id": "32d64b5c-000f-4362-b839-0f05480c3165",
   "metadata": {},
   "outputs": [
    {
     "name": "stdout",
     "output_type": "stream",
     "text": [
      "[1, 2, 3, 4, 5]\n",
      "[10, 2, 3, 4, 5, 4]\n",
      "[10, 2, 3, 4, 5, 4, 1]\n",
      "[1, 23, 4, 3, 45, 5]\n",
      "[1, 23, 4, 3, 45, 5]\n",
      "[2, 23, 4]\n"
     ]
    }
   ],
   "source": [
    "# Mutabilidad\n",
    "l = [1,2,3,4,5] # N - 1. El indice empieza con 0\n",
    "print (l)\n",
    "l[0] = 10\n",
    "l.append(4)\n",
    "print (l)\n",
    "l = l + [1] # Union de 2 listas.\n",
    "print (l)\n",
    "# Equivalente a\n",
    "l1 = [1,23,4]\n",
    "l2 = [3,45,5]\n",
    "l3 = l1 + l2 #unir listas\n",
    "print (l3)\n",
    "l1[0]=2\n",
    "print (l3)\n",
    "print (l1)"
   ]
  },
  {
   "cell_type": "code",
   "execution_count": 83,
   "id": "14bd5b81-00d1-49eb-b3f4-361da02a661a",
   "metadata": {},
   "outputs": [
    {
     "name": "stdout",
     "output_type": "stream",
     "text": [
      "(10, 23, 42, 23, 1, 2)\n"
     ]
    }
   ],
   "source": [
    "# Innmutable\n",
    "\n",
    "t = (10,23,42,23)\n",
    "#t[0]=1 #  'tuple' object does not support item assignment\n",
    "#t.append(10) #  'tuple' object has no attribute 'append'\n",
    "\n",
    "# Trabajar con Uniones\n",
    "t = t + (1,2)\n",
    "print (t)"
   ]
  },
  {
   "cell_type": "code",
   "execution_count": 93,
   "id": "37b90e59-795c-4bbd-a6db-a2a29cf4718d",
   "metadata": {},
   "outputs": [
    {
     "name": "stdout",
     "output_type": "stream",
     "text": [
      "1\n",
      "abcd\n",
      "[('a', 1), ('b', 'abcd')]\n",
      "dict_keys(['a', 'b'])\n",
      "dict_values([1, 'abcd'])\n"
     ]
    }
   ],
   "source": [
    "dic = { \"a\":1,\"b\":\"abcd\"}\n",
    "print (dic[\"a\"])\n",
    "print (dic[\"b\"])\n",
    "\n",
    "l = list (dic.items())\n",
    "print(l)\n",
    "print (dic.keys())\n",
    "print (dic.values())"
   ]
  },
  {
   "cell_type": "code",
   "execution_count": null,
   "id": "caf83173-bece-40bb-9734-b20535438c63",
   "metadata": {},
   "outputs": [],
   "source": [
    "# Faltan los sets ... Esperar un poco"
   ]
  },
  {
   "cell_type": "code",
   "execution_count": 133,
   "id": "b4f4024c-6b92-4f75-a05c-97f598acdc30",
   "metadata": {
    "scrolled": true
   },
   "outputs": [
    {
     "name": "stdout",
     "output_type": "stream",
     "text": [
      "Hola\n",
      "Hl ud\n",
      "odnuM aloH\n",
      "[1, 2, 3, 4]\n",
      "[1, 3, 5]\n",
      "[5, 4, 3, 2, 1]\n"
     ]
    }
   ],
   "source": [
    "# Slicing\n",
    "# inicio:fin:step\n",
    "cadena = \"Hola Mundo\"\n",
    "print (cadena[0:4])\n",
    "print(cadena[::2])\n",
    "print (cadena[::-1])\n",
    "\n",
    "l = [1,2,3,4,5] # N - 1. El indice empieza con 0\n",
    "print (l[0:4])\n",
    "print(l[::2])\n",
    "print (l[::-1])"
   ]
  },
  {
   "cell_type": "code",
   "execution_count": 137,
   "id": "91b290e9-2072-4464-90a3-19b173a508c6",
   "metadata": {},
   "outputs": [
    {
     "name": "stdout",
     "output_type": "stream",
     "text": [
      "Hola Mundo\n"
     ]
    }
   ],
   "source": [
    "# Concatenacion con +\n",
    "v1 = \"Hola\"\n",
    "v2 = \"Mundo\"\n",
    "v3 = v1 + \" \" + v2\n",
    "print (v3)"
   ]
  },
  {
   "cell_type": "code",
   "execution_count": 143,
   "id": "4c3079e3-33a5-4e1c-90a3-20111dc9a46e",
   "metadata": {},
   "outputs": [
    {
     "name": "stdout",
     "output_type": "stream",
     "text": [
      "Mundo, Hola, Hola Mundo\n"
     ]
    }
   ],
   "source": [
    "# Concatenacion con Join\n",
    "separador = \", \"\n",
    "print (separador.join({v1,v2,v3}))"
   ]
  },
  {
   "cell_type": "code",
   "execution_count": 155,
   "id": "0ff39608-5a61-4e8b-b7d2-03b3620d8dd5",
   "metadata": {},
   "outputs": [
    {
     "name": "stdout",
     "output_type": "stream",
     "text": [
      "('Hola', 'Mundo'), ('Hola', 'Mundo')!\n"
     ]
    }
   ],
   "source": [
    "# Concatenacion con Format\n",
    "print ( \"{}, {}!\".format((v1,v2),(v1,v2)))"
   ]
  },
  {
   "cell_type": "code",
   "execution_count": 157,
   "id": "e4d3ebc4-859d-43b0-9e60-66c9a1505ca0",
   "metadata": {},
   "outputs": [
    {
     "name": "stdout",
     "output_type": "stream",
     "text": [
      "Hola,Mundo!\n"
     ]
    }
   ],
   "source": [
    "print (f\"{v1},{v2}!\")"
   ]
  },
  {
   "cell_type": "code",
   "execution_count": 163,
   "id": "5da4af52-a8ef-49b2-a9c3-6726d6259d6a",
   "metadata": {},
   "outputs": [
    {
     "name": "stdin",
     "output_type": "stream",
     "text": [
      "Recibir valor\n",
      " super\n"
     ]
    },
    {
     "name": "stdout",
     "output_type": "stream",
     "text": [
      "super\n"
     ]
    }
   ],
   "source": [
    " # ¿ Input ?\n",
    "print (input(\"Recibir valor\\n\"))\n"
   ]
  },
  {
   "cell_type": "code",
   "execution_count": null,
   "id": "47268aa1-de33-49ac-90bf-daf9537a873a",
   "metadata": {},
   "outputs": [],
   "source": [
    "dic = [{ \"Nombre\":1,\"Apellido\":\"abcd\", \"Nomin\":\"\", \"F\":\"\"},{ \"Nombre\":1,\"Apellido\":\"abcd\", \"Nomin\":\"\", \"F\":\"\"}]\n"
   ]
  },
  {
   "cell_type": "code",
   "execution_count": 189,
   "id": "1b198a72-36d9-4888-b38a-5b31ea357f28",
   "metadata": {},
   "outputs": [],
   "source": [
    "class Persona:\n",
    "    def __init__ (self, nombre, apellido, nomina, fecha):\n",
    "        self.nombre = nombre\n",
    "        self.apellido = apellido\n",
    "        self.nomina = nomina\n",
    "        self.__fecha = fecha\n",
    "    def getFecha(self):\n",
    "        return self.__fecha"
   ]
  },
  {
   "cell_type": "code",
   "execution_count": 191,
   "id": "7059307b-a6c0-4f6c-89ad-06e5130d1d65",
   "metadata": {},
   "outputs": [],
   "source": [
    "var = Persona(\"Moises\",\"Chirinos\",\"1\",\"2020-01-01\")"
   ]
  },
  {
   "cell_type": "code",
   "execution_count": 193,
   "id": "27ae34d9-faba-4bf5-8215-968e6411c9ee",
   "metadata": {},
   "outputs": [
    {
     "name": "stdout",
     "output_type": "stream",
     "text": [
      "Moises, Chirinos, 2020-01-01\n"
     ]
    }
   ],
   "source": [
    "print (f\"{var.nombre}, {var.apellido}, {var.getFecha()}\")"
   ]
  }
 ],
 "metadata": {
  "kernelspec": {
   "display_name": "Python 3 (ipykernel)",
   "language": "python",
   "name": "python3"
  },
  "language_info": {
   "codemirror_mode": {
    "name": "ipython",
    "version": 3
   },
   "file_extension": ".py",
   "mimetype": "text/x-python",
   "name": "python",
   "nbconvert_exporter": "python",
   "pygments_lexer": "ipython3",
   "version": "3.12.7"
  }
 },
 "nbformat": 4,
 "nbformat_minor": 5
}
