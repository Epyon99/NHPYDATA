{
 "cells": [
  {
   "cell_type": "code",
   "execution_count": 11,
   "id": "70f7f949-4a88-4160-a998-26d29124584b",
   "metadata": {},
   "outputs": [
    {
     "name": "stdout",
     "output_type": "stream",
     "text": [
      "['aloh', 'esalc', 'odnum', 'aicilA']\n"
     ]
    }
   ],
   "source": [
    "def funcion_propia(palabra):\n",
    "    return str(palabra)[::-1]\n",
    "# MAP \n",
    "palabras = ['hola', 'clase', 'mundo','Alicia']\n",
    "for palabra in palabras:\n",
    "    pass\n",
    "    #print (str.upper(palabra))\n",
    "\n",
    "map_result = map(funcion_propia,palabras)\n",
    "print (list(map_result))"
   ]
  },
  {
   "cell_type": "code",
   "execution_count": 23,
   "id": "70d966fd-d523-4a82-9f03-0f7ced944f01",
   "metadata": {},
   "outputs": [
    {
     "name": "stdout",
     "output_type": "stream",
     "text": [
      "{1, 3, 5, 7}\n"
     ]
    }
   ],
   "source": [
    "# FILTER\n",
    "numeros = [1,2,3,4,5,6,7]\n",
    "filter_impares = filter(lambda numero: numero % 2 != 0, numeros)\n",
    "print (set(filter_impares))"
   ]
  },
  {
   "cell_type": "code",
   "execution_count": 55,
   "id": "1051fff7-3859-4e98-8aad-8de4801fcc13",
   "metadata": {},
   "outputs": [
    {
     "name": "stdout",
     "output_type": "stream",
     "text": [
      "<class 'str'>\n",
      "<class 'dict'>\n",
      "<class 'str'>\n"
     ]
    }
   ],
   "source": [
    "import json\n",
    "data = \"\"\n",
    "with open('data.json','r') as archivo:\n",
    "    data = archivo.read()\n",
    "\n",
    "json_data = json.loads(data)\n",
    "print (type(data))\n",
    "print(type(json_data))\n",
    "print (type(json_data[\"nombre\"]))\n",
    "    \n",
    "    "
   ]
  },
  {
   "cell_type": "code",
   "execution_count": 69,
   "id": "ad250e00-fdd4-4476-b985-50a63937552e",
   "metadata": {},
   "outputs": [
    {
     "ename": "ParseError",
     "evalue": "duplicate attribute: line 2, column 32 (<string>)",
     "output_type": "error",
     "traceback": [
      "Traceback \u001b[1;36m(most recent call last)\u001b[0m:\n",
      "\u001b[0m  File \u001b[0;32mC:\\ProgramData\\anaconda3\\Lib\\site-packages\\IPython\\core\\interactiveshell.py:3577\u001b[0m in \u001b[0;35mrun_code\u001b[0m\n    exec(code_obj, self.user_global_ns, self.user_ns)\u001b[0m\n",
      "\u001b[0m  Cell \u001b[0;32mIn[69], line 6\u001b[0m\n    root = ET.parse(\"data.xml\")\u001b[0m\n",
      "\u001b[0m  File \u001b[0;32mC:\\ProgramData\\anaconda3\\Lib\\xml\\etree\\ElementTree.py:1204\u001b[0m in \u001b[0;35mparse\u001b[0m\n    tree.parse(source, parser)\u001b[0m\n",
      "\u001b[1;36m  File \u001b[1;32mC:\\ProgramData\\anaconda3\\Lib\\xml\\etree\\ElementTree.py:569\u001b[1;36m in \u001b[1;35mparse\u001b[1;36m\n\u001b[1;33m    self._root = parser._parse_whole(source)\u001b[1;36m\n",
      "\u001b[1;36m  File \u001b[1;32m<string>\u001b[1;36m\u001b[0m\n\u001b[1;31mParseError\u001b[0m\u001b[1;31m:\u001b[0m duplicate attribute: line 2, column 32\n"
     ]
    }
   ],
   "source": [
    "import xml.etree.ElementTree as ET\n",
    "#data_xml = \"\"\n",
    "#with open(\"data.xml\",\"r\") as archivo:\n",
    "#    data_xml = archivo.read()\n",
    "\n",
    "root = ET.parse(\"data.xml\")\n",
    "#r = root.gettree()\n",
    "type(root)\n",
    "print(root.find('persona').text)\n",
    "print(root.find('gente').text)\n",
    "\n",
    "for child in root:\n",
    "    print (child.tag, child.text)"
   ]
  },
  {
   "cell_type": "code",
   "execution_count": null,
   "id": "6f480ec3-7f43-42ca-9bcb-cbaefac20306",
   "metadata": {},
   "outputs": [],
   "source": []
  }
 ],
 "metadata": {
  "kernelspec": {
   "display_name": "Python 3 (ipykernel)",
   "language": "python",
   "name": "python3"
  },
  "language_info": {
   "codemirror_mode": {
    "name": "ipython",
    "version": 3
   },
   "file_extension": ".py",
   "mimetype": "text/x-python",
   "name": "python",
   "nbconvert_exporter": "python",
   "pygments_lexer": "ipython3",
   "version": "3.12.7"
  }
 },
 "nbformat": 4,
 "nbformat_minor": 5
}
