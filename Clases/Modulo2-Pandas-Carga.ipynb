{
 "cells": [
  {
   "cell_type": "code",
   "execution_count": 1,
   "id": "3b58f8ef-2360-42b4-bd80-8b9081a9f2cf",
   "metadata": {},
   "outputs": [
    {
     "name": "stdout",
     "output_type": "stream",
     "text": [
      "0    A\n",
      "1    B\n",
      "2    C\n",
      "3    D\n",
      "Name: Mineral, dtype: object 0    10\n",
      "1    20\n",
      "2    30\n",
      "3    40\n",
      "Name: Concentracion, dtype: int64\n"
     ]
    }
   ],
   "source": [
    "import pandas as pd\n",
    "\n",
    "data = {'Mineral': ['A','B','C','D'],\n",
    "        'Concentracion':[10,20,30,40]}\n",
    "\n",
    "df = pd.DataFrame(data)\n",
    "print (df['Mineral'], df['Concentracion'])"
   ]
  },
  {
   "cell_type": "code",
   "execution_count": 2,
   "id": "9de57f37-e0e3-4549-b62c-7f39c0975a57",
   "metadata": {},
   "outputs": [
    {
     "name": "stdout",
     "output_type": "stream",
     "text": [
      "0    10\n",
      "1    20\n",
      "2    30\n",
      "3    40\n",
      "Name: Concentracion, dtype: int64\n",
      "25.0\n",
      "0    15\n",
      "1    25\n",
      "2    35\n",
      "3    45\n",
      "Name: Concentracion, dtype: int64\n",
      "RangeIndex(start=0, stop=4, step=1)\n",
      "30\n"
     ]
    }
   ],
   "source": [
    "serie = pd.Series(df['Concentracion'])\n",
    "\n",
    "#print (serie['Mineral'])#\n",
    "print (serie)\n",
    "print (serie.mean())\n",
    "print (serie + 5)\n",
    "print (serie.index)\n",
    "print (serie.values[2])"
   ]
  },
  {
   "cell_type": "code",
   "execution_count": 18,
   "id": "14756949-bd47-4389-97cc-1138deada7dd",
   "metadata": {},
   "outputs": [
    {
     "name": "stdout",
     "output_type": "stream",
     "text": [
      "    Name  Age  Height  Weight\n",
      "0   John   28     175      70\n",
      "1  Alice   24     160      55\n",
      "2    Bob   30     180      80\n",
      "3  Diana   22     165      60\n",
      "4   John   28     175      70\n",
      "      Name  Age  Height  Weight\n",
      "273  Alice   24     160      55\n",
      "274    Bob   30     180      80\n",
      "275  Diana   22     165      60\n",
      "276   John   28     175      70\n",
      "277  Alice   24     160      55\n",
      "278    Bob   30     180      80\n",
      "279  Diana   22     165      60\n",
      "280   John   28     175      70\n",
      "281  Alice   24     160      55\n",
      "282    Bob   30     180      80\n",
      "283  Diana   22     165      60\n",
      "284   John   28     175      70\n",
      "285  Alice   24     160      55\n",
      "286    Bob   30     180      80\n",
      "287  Diana   22     165      60\n"
     ]
    }
   ],
   "source": [
    "df = pd.read_csv('datapersonas.csv')\n",
    "print(df.head())\n",
    "print(df.tail(15))"
   ]
  },
  {
   "cell_type": "code",
   "execution_count": 4,
   "id": "0c62358a-cc2b-4cee-a5cb-a1c335006149",
   "metadata": {},
   "outputs": [
    {
     "data": {
      "text/html": [
       "<div>\n",
       "<style scoped>\n",
       "    .dataframe tbody tr th:only-of-type {\n",
       "        vertical-align: middle;\n",
       "    }\n",
       "\n",
       "    .dataframe tbody tr th {\n",
       "        vertical-align: top;\n",
       "    }\n",
       "\n",
       "    .dataframe thead th {\n",
       "        text-align: right;\n",
       "    }\n",
       "</style>\n",
       "<table border=\"1\" class=\"dataframe\">\n",
       "  <thead>\n",
       "    <tr style=\"text-align: right;\">\n",
       "      <th></th>\n",
       "      <th>Age</th>\n",
       "      <th>Height</th>\n",
       "      <th>Weight</th>\n",
       "    </tr>\n",
       "  </thead>\n",
       "  <tbody>\n",
       "    <tr>\n",
       "      <th>0</th>\n",
       "      <td>28</td>\n",
       "      <td>175</td>\n",
       "      <td>70</td>\n",
       "    </tr>\n",
       "    <tr>\n",
       "      <th>1</th>\n",
       "      <td>24</td>\n",
       "      <td>160</td>\n",
       "      <td>55</td>\n",
       "    </tr>\n",
       "    <tr>\n",
       "      <th>2</th>\n",
       "      <td>30</td>\n",
       "      <td>180</td>\n",
       "      <td>80</td>\n",
       "    </tr>\n",
       "    <tr>\n",
       "      <th>3</th>\n",
       "      <td>22</td>\n",
       "      <td>165</td>\n",
       "      <td>60</td>\n",
       "    </tr>\n",
       "  </tbody>\n",
       "</table>\n",
       "</div>"
      ],
      "text/plain": [
       "   Age  Height  Weight\n",
       "0   28     175      70\n",
       "1   24     160      55\n",
       "2   30     180      80\n",
       "3   22     165      60"
      ]
     },
     "execution_count": 4,
     "metadata": {},
     "output_type": "execute_result"
    }
   ],
   "source": [
    "#df = pd.read_csv('data.csv')\n",
    "#df.head()"
   ]
  },
  {
   "cell_type": "code",
   "execution_count": 20,
   "id": "1e6c1567-9956-4067-b7af-3335c56727d7",
   "metadata": {},
   "outputs": [
    {
     "name": "stdout",
     "output_type": "stream",
     "text": [
      "              Age      Height      Weight\n",
      "count  288.000000  288.000000  288.000000\n",
      "mean    26.000000  170.000000   66.250000\n",
      "std      3.167782    7.919455    9.618145\n",
      "min     22.000000  160.000000   55.000000\n",
      "25%     23.500000  163.750000   58.750000\n",
      "50%     26.000000  170.000000   65.000000\n",
      "75%     28.500000  176.250000   72.500000\n",
      "max     30.000000  180.000000   80.000000\n"
     ]
    }
   ],
   "source": [
    "my_stats = df.describe()\n",
    "print (my_stats)"
   ]
  },
  {
   "cell_type": "code",
   "execution_count": 24,
   "id": "bc31d2a1-d06c-4d04-af48-870c6720a188",
   "metadata": {},
   "outputs": [
    {
     "data": {
      "text/plain": [
       "<bound method DataFrame.info of       Name  Age  Height  Weight\n",
       "0     John   28     175      70\n",
       "1    Alice   24     160      55\n",
       "2      Bob   30     180      80\n",
       "3    Diana   22     165      60\n",
       "4     John   28     175      70\n",
       "..     ...  ...     ...     ...\n",
       "283  Diana   22     165      60\n",
       "284   John   28     175      70\n",
       "285  Alice   24     160      55\n",
       "286    Bob   30     180      80\n",
       "287  Diana   22     165      60\n",
       "\n",
       "[288 rows x 4 columns]>"
      ]
     },
     "execution_count": 24,
     "metadata": {},
     "output_type": "execute_result"
    }
   ],
   "source": [
    "df.info"
   ]
  },
  {
   "cell_type": "code",
   "execution_count": 28,
   "id": "398eae3e-6a0b-4b46-8339-0ef948ec87b2",
   "metadata": {},
   "outputs": [
    {
     "name": "stdout",
     "output_type": "stream",
     "text": [
      "Name      Alice\n",
      "Age          24\n",
      "Height      160\n",
      "Weight       55\n",
      "Name: 1, dtype: object\n",
      "Height    160\n",
      "Age        24\n",
      "Name: 1, dtype: object\n"
     ]
    }
   ],
   "source": [
    "fila = df.loc[1]\n",
    "print (fila)\n",
    "mfila = df.loc[1,['Height','Age']]\n",
    "print (mfila)"
   ]
  },
  {
   "cell_type": "code",
   "execution_count": 30,
   "id": "6cdeb2f4-fa1c-4ab8-8da3-f32e1e83a301",
   "metadata": {},
   "outputs": [
    {
     "name": "stdout",
     "output_type": "stream",
     "text": [
      "Name      Alice\n",
      "Age          24\n",
      "Height      160\n",
      "Weight       55\n",
      "Name: 1, dtype: object\n",
      "Name      Alice\n",
      "Weight       55\n",
      "Name: 1, dtype: object\n"
     ]
    }
   ],
   "source": [
    "fila = df.iloc[1]\n",
    "print (fila)\n",
    "mfila = df.iloc[1,[0,3]]\n",
    "print (mfila)"
   ]
  },
  {
   "cell_type": "code",
   "execution_count": 36,
   "id": "e17c00ca-263c-48e3-a63f-b7be3b7aa3f3",
   "metadata": {},
   "outputs": [
    {
     "name": "stdout",
     "output_type": "stream",
     "text": [
      "    Name  Age  Height  Weight\n",
      "0   John   28     175      70\n",
      "1  Alice   24     160      55\n",
      "2    Bob   30     180      80\n",
      "3  Diana   22     165      60\n",
      "4   John   28     175      70\n",
      "    Name  Age  Height  Weight\n",
      "0   John   28     175      70\n",
      "1  Alice   24     160      55\n",
      "2    Bob   30     180      80\n",
      "3  Diana   22     165      60\n",
      "4   John   28     175      70\n"
     ]
    }
   ],
   "source": [
    "# Cada copia de un DF\n",
    "# \n",
    "copia = df\n",
    "df_sin_fila = copia.drop(50)\n",
    "print(copia.head())\n",
    "print(df_sin_fila.head())"
   ]
  },
  {
   "cell_type": "code",
   "execution_count": 40,
   "id": "fcb6a4ce-7442-4d58-a97f-73436df690f2",
   "metadata": {},
   "outputs": [
    {
     "name": "stdout",
     "output_type": "stream",
     "text": [
      "<pandas.core.groupby.generic.DataFrameGroupBy object at 0x00000258B5624D10>\n",
      "Name\n",
      "Alice    72\n",
      "Bob      72\n",
      "Diana    72\n",
      "John     72\n",
      "dtype: int64\n"
     ]
    }
   ],
   "source": [
    "mod = df.groupby('Name')\n",
    "print (mod)\n",
    "print (mod.size())"
   ]
  },
  {
   "cell_type": "code",
   "execution_count": 44,
   "id": "5326ffb6-00c4-4e5f-bc50-22aa5b611529",
   "metadata": {},
   "outputs": [
    {
     "name": "stdout",
     "output_type": "stream",
     "text": [
      "   Name  Age_x  Height_x  Weight_x  Age_y  Height_y  Weight_y\n",
      "0  John     28       175        70     28       175        70\n",
      "1  John     28       175        70     28       175        70\n",
      "2  John     28       175        70     28       175        70\n",
      "3  John     28       175        70     28       175        70\n",
      "4  John     28       175        70     28       175        70\n"
     ]
    }
   ],
   "source": [
    "df1 = df\n",
    "df2 = df\n",
    "df_merge = pd.merge(df,df2, on='Name')\n",
    "print(df_merge.head())"
   ]
  },
  {
   "cell_type": "code",
   "execution_count": 64,
   "id": "f38baf1b-556b-4867-8f0f-b4ea7670cab0",
   "metadata": {},
   "outputs": [
    {
     "name": "stdout",
     "output_type": "stream",
     "text": [
      "     Name   Age  Height  Weight\n",
      "0  Alicia  28.0     NaN    70.0\n",
      "1     NaN  24.0   160.0    55.0\n",
      "2   Julio  30.0   180.0     NaN\n",
      "3   Ronny   NaN    60.0   165.0\n",
      "     Name   Age  Height  Weight\n",
      "0  Alicia  28.0     0.0    70.0\n",
      "1       0  24.0   160.0    55.0\n",
      "2   Julio  30.0   180.0     0.0\n",
      "3   Ronny   0.0    60.0   165.0\n",
      "          Name        Age  Height  Weight\n",
      "0       Alicia  28.000000     NaN    70.0\n",
      "1  Desconocido  24.000000   160.0    55.0\n",
      "2        Julio  30.000000   180.0     NaN\n",
      "3        Ronny  27.333333    60.0   165.0\n",
      "          Name        Age  Height  Weight\n",
      "1  Desconocido  24.000000   160.0    55.0\n",
      "0       Alicia  28.000000     NaN    70.0\n",
      "3        Ronny  27.333333    60.0   165.0\n",
      "2        Julio  30.000000   180.0     NaN\n"
     ]
    }
   ],
   "source": [
    "df_short = pd.read_csv('data.csv')\n",
    "print (df_short.head())\n",
    "df_fix1 = df_short.fillna(0)\n",
    "print (df_fix1.head())\n",
    "df_fix2 = df_short\n",
    "\n",
    "df_fix2['Age'] = df_fix2['Age'].fillna(df_fix2['Age'].mean())\n",
    "df_fix3 = df_fix2.copy()\n",
    "df_fix3['Name'] = df_fix3['Name'].fillna('Desconocido')\n",
    "print (df_fix3.head())\n",
    "print (df_fix3.sort_values(by='Weight'))"
   ]
  },
  {
   "cell_type": "code",
   "execution_count": 66,
   "id": "8e6f5763-8724-4581-adf6-b634b08833b4",
   "metadata": {},
   "outputs": [],
   "source": [
    "df_fix3.to_csv('dffix3.csv')"
   ]
  },
  {
   "cell_type": "code",
   "execution_count": 88,
   "id": "af12211f-dd18-44b2-9d73-2e31c0024086",
   "metadata": {},
   "outputs": [
    {
     "name": "stdout",
     "output_type": "stream",
     "text": [
      "0    Alicia\n",
      "1     Julio\n",
      "2     Ronny\n",
      "Name: Name, dtype: object\n",
      "<class 'pandas.core.series.Series'>\n",
      "Alicia\n",
      "     Name   Age  Height  Weight\n",
      "0  Alicia  28.0     NaN      75\n",
      "1     NaN  24.0   160.0    1655\n",
      "2   Julio  30.0   180.0     702\n",
      "3   Ronny   NaN    60.0     165\n"
     ]
    },
    {
     "ename": "TypeError",
     "evalue": "can only concatenate str (not \"int\") to str",
     "output_type": "error",
     "traceback": [
      "\u001b[1;31m---------------------------------------------------------------------------\u001b[0m",
      "\u001b[1;31mTypeError\u001b[0m                                 Traceback (most recent call last)",
      "Cell \u001b[1;32mIn[88], line 7\u001b[0m\n\u001b[0;32m      5\u001b[0m \u001b[38;5;28mprint\u001b[39m (moda[\u001b[38;5;241m0\u001b[39m])\n\u001b[0;32m      6\u001b[0m \u001b[38;5;28mprint\u001b[39m (df_short)\n\u001b[1;32m----> 7\u001b[0m \u001b[38;5;28mprint\u001b[39m (df_short[\u001b[38;5;124m'\u001b[39m\u001b[38;5;124mName\u001b[39m\u001b[38;5;124m'\u001b[39m]\u001b[38;5;241m.\u001b[39mmean())\n\u001b[0;32m      8\u001b[0m \u001b[38;5;28mprint\u001b[39m (df_short[\u001b[38;5;124m'\u001b[39m\u001b[38;5;124mName\u001b[39m\u001b[38;5;124m'\u001b[39m]\u001b[38;5;241m.\u001b[39mmedian())\n\u001b[0;32m      9\u001b[0m \u001b[38;5;28mprint\u001b[39m (df_short[\u001b[38;5;124m'\u001b[39m\u001b[38;5;124mName\u001b[39m\u001b[38;5;124m'\u001b[39m]\u001b[38;5;241m.\u001b[39mstd())\n",
      "File \u001b[1;32mC:\\ProgramData\\anaconda3\\Lib\\site-packages\\pandas\\core\\series.py:6549\u001b[0m, in \u001b[0;36mSeries.mean\u001b[1;34m(self, axis, skipna, numeric_only, **kwargs)\u001b[0m\n\u001b[0;32m   6541\u001b[0m \u001b[38;5;129m@doc\u001b[39m(make_doc(\u001b[38;5;124m\"\u001b[39m\u001b[38;5;124mmean\u001b[39m\u001b[38;5;124m\"\u001b[39m, ndim\u001b[38;5;241m=\u001b[39m\u001b[38;5;241m1\u001b[39m))\n\u001b[0;32m   6542\u001b[0m \u001b[38;5;28;01mdef\u001b[39;00m \u001b[38;5;21mmean\u001b[39m(\n\u001b[0;32m   6543\u001b[0m     \u001b[38;5;28mself\u001b[39m,\n\u001b[1;32m   (...)\u001b[0m\n\u001b[0;32m   6547\u001b[0m     \u001b[38;5;241m*\u001b[39m\u001b[38;5;241m*\u001b[39mkwargs,\n\u001b[0;32m   6548\u001b[0m ):\n\u001b[1;32m-> 6549\u001b[0m     \u001b[38;5;28;01mreturn\u001b[39;00m NDFrame\u001b[38;5;241m.\u001b[39mmean(\u001b[38;5;28mself\u001b[39m, axis, skipna, numeric_only, \u001b[38;5;241m*\u001b[39m\u001b[38;5;241m*\u001b[39mkwargs)\n",
      "File \u001b[1;32mC:\\ProgramData\\anaconda3\\Lib\\site-packages\\pandas\\core\\generic.py:12420\u001b[0m, in \u001b[0;36mNDFrame.mean\u001b[1;34m(self, axis, skipna, numeric_only, **kwargs)\u001b[0m\n\u001b[0;32m  12413\u001b[0m \u001b[38;5;28;01mdef\u001b[39;00m \u001b[38;5;21mmean\u001b[39m(\n\u001b[0;32m  12414\u001b[0m     \u001b[38;5;28mself\u001b[39m,\n\u001b[0;32m  12415\u001b[0m     axis: Axis \u001b[38;5;241m|\u001b[39m \u001b[38;5;28;01mNone\u001b[39;00m \u001b[38;5;241m=\u001b[39m \u001b[38;5;241m0\u001b[39m,\n\u001b[1;32m   (...)\u001b[0m\n\u001b[0;32m  12418\u001b[0m     \u001b[38;5;241m*\u001b[39m\u001b[38;5;241m*\u001b[39mkwargs,\n\u001b[0;32m  12419\u001b[0m ) \u001b[38;5;241m-\u001b[39m\u001b[38;5;241m>\u001b[39m Series \u001b[38;5;241m|\u001b[39m \u001b[38;5;28mfloat\u001b[39m:\n\u001b[1;32m> 12420\u001b[0m     \u001b[38;5;28;01mreturn\u001b[39;00m \u001b[38;5;28mself\u001b[39m\u001b[38;5;241m.\u001b[39m_stat_function(\n\u001b[0;32m  12421\u001b[0m         \u001b[38;5;124m\"\u001b[39m\u001b[38;5;124mmean\u001b[39m\u001b[38;5;124m\"\u001b[39m, nanops\u001b[38;5;241m.\u001b[39mnanmean, axis, skipna, numeric_only, \u001b[38;5;241m*\u001b[39m\u001b[38;5;241m*\u001b[39mkwargs\n\u001b[0;32m  12422\u001b[0m     )\n",
      "File \u001b[1;32mC:\\ProgramData\\anaconda3\\Lib\\site-packages\\pandas\\core\\generic.py:12377\u001b[0m, in \u001b[0;36mNDFrame._stat_function\u001b[1;34m(self, name, func, axis, skipna, numeric_only, **kwargs)\u001b[0m\n\u001b[0;32m  12373\u001b[0m nv\u001b[38;5;241m.\u001b[39mvalidate_func(name, (), kwargs)\n\u001b[0;32m  12375\u001b[0m validate_bool_kwarg(skipna, \u001b[38;5;124m\"\u001b[39m\u001b[38;5;124mskipna\u001b[39m\u001b[38;5;124m\"\u001b[39m, none_allowed\u001b[38;5;241m=\u001b[39m\u001b[38;5;28;01mFalse\u001b[39;00m)\n\u001b[1;32m> 12377\u001b[0m \u001b[38;5;28;01mreturn\u001b[39;00m \u001b[38;5;28mself\u001b[39m\u001b[38;5;241m.\u001b[39m_reduce(\n\u001b[0;32m  12378\u001b[0m     func, name\u001b[38;5;241m=\u001b[39mname, axis\u001b[38;5;241m=\u001b[39maxis, skipna\u001b[38;5;241m=\u001b[39mskipna, numeric_only\u001b[38;5;241m=\u001b[39mnumeric_only\n\u001b[0;32m  12379\u001b[0m )\n",
      "File \u001b[1;32mC:\\ProgramData\\anaconda3\\Lib\\site-packages\\pandas\\core\\series.py:6457\u001b[0m, in \u001b[0;36mSeries._reduce\u001b[1;34m(self, op, name, axis, skipna, numeric_only, filter_type, **kwds)\u001b[0m\n\u001b[0;32m   6452\u001b[0m     \u001b[38;5;66;03m# GH#47500 - change to TypeError to match other methods\u001b[39;00m\n\u001b[0;32m   6453\u001b[0m     \u001b[38;5;28;01mraise\u001b[39;00m \u001b[38;5;167;01mTypeError\u001b[39;00m(\n\u001b[0;32m   6454\u001b[0m         \u001b[38;5;124mf\u001b[39m\u001b[38;5;124m\"\u001b[39m\u001b[38;5;124mSeries.\u001b[39m\u001b[38;5;132;01m{\u001b[39;00mname\u001b[38;5;132;01m}\u001b[39;00m\u001b[38;5;124m does not allow \u001b[39m\u001b[38;5;132;01m{\u001b[39;00mkwd_name\u001b[38;5;132;01m}\u001b[39;00m\u001b[38;5;124m=\u001b[39m\u001b[38;5;132;01m{\u001b[39;00mnumeric_only\u001b[38;5;132;01m}\u001b[39;00m\u001b[38;5;124m \u001b[39m\u001b[38;5;124m\"\u001b[39m\n\u001b[0;32m   6455\u001b[0m         \u001b[38;5;124m\"\u001b[39m\u001b[38;5;124mwith non-numeric dtypes.\u001b[39m\u001b[38;5;124m\"\u001b[39m\n\u001b[0;32m   6456\u001b[0m     )\n\u001b[1;32m-> 6457\u001b[0m \u001b[38;5;28;01mreturn\u001b[39;00m op(delegate, skipna\u001b[38;5;241m=\u001b[39mskipna, \u001b[38;5;241m*\u001b[39m\u001b[38;5;241m*\u001b[39mkwds)\n",
      "File \u001b[1;32mC:\\ProgramData\\anaconda3\\Lib\\site-packages\\pandas\\core\\nanops.py:147\u001b[0m, in \u001b[0;36mbottleneck_switch.__call__.<locals>.f\u001b[1;34m(values, axis, skipna, **kwds)\u001b[0m\n\u001b[0;32m    145\u001b[0m         result \u001b[38;5;241m=\u001b[39m alt(values, axis\u001b[38;5;241m=\u001b[39maxis, skipna\u001b[38;5;241m=\u001b[39mskipna, \u001b[38;5;241m*\u001b[39m\u001b[38;5;241m*\u001b[39mkwds)\n\u001b[0;32m    146\u001b[0m \u001b[38;5;28;01melse\u001b[39;00m:\n\u001b[1;32m--> 147\u001b[0m     result \u001b[38;5;241m=\u001b[39m alt(values, axis\u001b[38;5;241m=\u001b[39maxis, skipna\u001b[38;5;241m=\u001b[39mskipna, \u001b[38;5;241m*\u001b[39m\u001b[38;5;241m*\u001b[39mkwds)\n\u001b[0;32m    149\u001b[0m \u001b[38;5;28;01mreturn\u001b[39;00m result\n",
      "File \u001b[1;32mC:\\ProgramData\\anaconda3\\Lib\\site-packages\\pandas\\core\\nanops.py:404\u001b[0m, in \u001b[0;36m_datetimelike_compat.<locals>.new_func\u001b[1;34m(values, axis, skipna, mask, **kwargs)\u001b[0m\n\u001b[0;32m    401\u001b[0m \u001b[38;5;28;01mif\u001b[39;00m datetimelike \u001b[38;5;129;01mand\u001b[39;00m mask \u001b[38;5;129;01mis\u001b[39;00m \u001b[38;5;28;01mNone\u001b[39;00m:\n\u001b[0;32m    402\u001b[0m     mask \u001b[38;5;241m=\u001b[39m isna(values)\n\u001b[1;32m--> 404\u001b[0m result \u001b[38;5;241m=\u001b[39m func(values, axis\u001b[38;5;241m=\u001b[39maxis, skipna\u001b[38;5;241m=\u001b[39mskipna, mask\u001b[38;5;241m=\u001b[39mmask, \u001b[38;5;241m*\u001b[39m\u001b[38;5;241m*\u001b[39mkwargs)\n\u001b[0;32m    406\u001b[0m \u001b[38;5;28;01mif\u001b[39;00m datetimelike:\n\u001b[0;32m    407\u001b[0m     result \u001b[38;5;241m=\u001b[39m _wrap_results(result, orig_values\u001b[38;5;241m.\u001b[39mdtype, fill_value\u001b[38;5;241m=\u001b[39miNaT)\n",
      "File \u001b[1;32mC:\\ProgramData\\anaconda3\\Lib\\site-packages\\pandas\\core\\nanops.py:719\u001b[0m, in \u001b[0;36mnanmean\u001b[1;34m(values, axis, skipna, mask)\u001b[0m\n\u001b[0;32m    716\u001b[0m     dtype_count \u001b[38;5;241m=\u001b[39m dtype\n\u001b[0;32m    718\u001b[0m count \u001b[38;5;241m=\u001b[39m _get_counts(values\u001b[38;5;241m.\u001b[39mshape, mask, axis, dtype\u001b[38;5;241m=\u001b[39mdtype_count)\n\u001b[1;32m--> 719\u001b[0m the_sum \u001b[38;5;241m=\u001b[39m values\u001b[38;5;241m.\u001b[39msum(axis, dtype\u001b[38;5;241m=\u001b[39mdtype_sum)\n\u001b[0;32m    720\u001b[0m the_sum \u001b[38;5;241m=\u001b[39m _ensure_numeric(the_sum)\n\u001b[0;32m    722\u001b[0m \u001b[38;5;28;01mif\u001b[39;00m axis \u001b[38;5;129;01mis\u001b[39;00m \u001b[38;5;129;01mnot\u001b[39;00m \u001b[38;5;28;01mNone\u001b[39;00m \u001b[38;5;129;01mand\u001b[39;00m \u001b[38;5;28mgetattr\u001b[39m(the_sum, \u001b[38;5;124m\"\u001b[39m\u001b[38;5;124mndim\u001b[39m\u001b[38;5;124m\"\u001b[39m, \u001b[38;5;28;01mFalse\u001b[39;00m):\n",
      "File \u001b[1;32mC:\\ProgramData\\anaconda3\\Lib\\site-packages\\numpy\\core\\_methods.py:49\u001b[0m, in \u001b[0;36m_sum\u001b[1;34m(a, axis, dtype, out, keepdims, initial, where)\u001b[0m\n\u001b[0;32m     47\u001b[0m \u001b[38;5;28;01mdef\u001b[39;00m \u001b[38;5;21m_sum\u001b[39m(a, axis\u001b[38;5;241m=\u001b[39m\u001b[38;5;28;01mNone\u001b[39;00m, dtype\u001b[38;5;241m=\u001b[39m\u001b[38;5;28;01mNone\u001b[39;00m, out\u001b[38;5;241m=\u001b[39m\u001b[38;5;28;01mNone\u001b[39;00m, keepdims\u001b[38;5;241m=\u001b[39m\u001b[38;5;28;01mFalse\u001b[39;00m,\n\u001b[0;32m     48\u001b[0m          initial\u001b[38;5;241m=\u001b[39m_NoValue, where\u001b[38;5;241m=\u001b[39m\u001b[38;5;28;01mTrue\u001b[39;00m):\n\u001b[1;32m---> 49\u001b[0m     \u001b[38;5;28;01mreturn\u001b[39;00m umr_sum(a, axis, dtype, out, keepdims, initial, where)\n",
      "\u001b[1;31mTypeError\u001b[0m: can only concatenate str (not \"int\") to str"
     ]
    }
   ],
   "source": [
    "df_short = pd.read_csv('data.csv')\n",
    "moda = df_short['Name'].mode()\n",
    "print (moda)\n",
    "print (type(moda))\n",
    "print (moda[0])\n",
    "print (df_short)\n",
    "print (df_short['Name'].mean())\n",
    "print (df_short['Name'].median())\n",
    "print (df_short['Name'].std())\n",
    "print (df_short['Name'].var())"
   ]
  },
  {
   "cell_type": "code",
   "execution_count": null,
   "id": "cbd0bcd7-d3d7-43be-9691-2ead54a790ec",
   "metadata": {},
   "outputs": [],
   "source": []
  }
 ],
 "metadata": {
  "kernelspec": {
   "display_name": "Python 3 (ipykernel)",
   "language": "python",
   "name": "python3"
  },
  "language_info": {
   "codemirror_mode": {
    "name": "ipython",
    "version": 3
   },
   "file_extension": ".py",
   "mimetype": "text/x-python",
   "name": "python",
   "nbconvert_exporter": "python",
   "pygments_lexer": "ipython3",
   "version": "3.12.7"
  }
 },
 "nbformat": 4,
 "nbformat_minor": 5
}
