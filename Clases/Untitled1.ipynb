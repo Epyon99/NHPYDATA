{
 "cells": [
  {
   "cell_type": "code",
   "execution_count": 1,
   "id": "8e8f6bca-e977-4dd0-8064-292ac71e57e7",
   "metadata": {},
   "outputs": [
    {
     "name": "stdout",
     "output_type": "stream",
     "text": [
      "[0.001669449081803005, 0.0651085141903172, 1.0, 0.0]\n"
     ]
    }
   ],
   "source": [
    "concentraciones = [10,200,3000,5]\n",
    "minimo = min(concentraciones)\n",
    "maximo = max(concentraciones)\n",
    "\n",
    "datos_nor = [ (x - minimo) / (maximo-minimo) for x in concentraciones]\n",
    "print (datos_nor)"
   ]
  },
  {
   "cell_type": "code",
   "execution_count": 7,
   "id": "bdfc7d90-a87c-4fc4-b0f0-ac19f0d0731a",
   "metadata": {},
   "outputs": [
    {
     "name": "stdout",
     "output_type": "stream",
     "text": [
      "[[0.00166945]\n",
      " [0.06510851]\n",
      " [1.        ]\n",
      " [0.        ]]\n"
     ]
    }
   ],
   "source": [
    "import pandas as pd\n",
    "from sklearn.preprocessing import MinMaxScaler\n",
    "\n",
    "data = {\n",
    "    'Mineral':['A','B','C','D'],\n",
    "    'Concentracion':[10,200,3000,5]\n",
    "}\n",
    "df = pd.DataFrame(data)\n",
    "scaler = MinMaxScaler()\n",
    "print (scaler.fit_transform(df[['Concentracion']]))"
   ]
  },
  {
   "cell_type": "code",
   "execution_count": 21,
   "id": "6b90c596-8ea8-4a59-a5c0-630a17422b75",
   "metadata": {},
   "outputs": [
    {
     "name": "stdout",
     "output_type": "stream",
     "text": [
      "<class 'numpy.ndarray'>\n",
      "[7, 8, 10, 50]\n",
      "(array([3, 4, 5, 6], dtype=int64),)\n",
      "[3 4 5 6]\n",
      "[ 7  8 10 50]\n",
      "\n"
     ]
    }
   ],
   "source": [
    "import numpy as np\n",
    "########0,1,2,3,4, 5,6\n",
    "data = [1,4,5,7,8,10,50]\n",
    "arr = np.array(data)\n",
    "print (type(arr))\n",
    "\n",
    "filtrado = filter(lambda x: x > 5,data)\n",
    "print (list(filtrado))\n",
    "\n",
    "indices = np.where(arr > 5)\n",
    "print(indices)\n",
    "print(indices[0])\n",
    "for i in indices:\n",
    "    print(str(arr[i]) + \"\\n\")"
   ]
  },
  {
   "cell_type": "code",
   "execution_count": 29,
   "id": "ade9d5d6-dbe3-49e2-ab8e-9ebc018344eb",
   "metadata": {},
   "outputs": [
    {
     "name": "stdout",
     "output_type": "stream",
     "text": [
      "<class 'numpy.ndarray'>\n",
      "(array([0, 1, 1, 2, 2], dtype=int64), array([2, 1, 2, 1, 2], dtype=int64))\n"
     ]
    }
   ],
   "source": [
    "import numpy as np\n",
    "########0,1,2,3,4, 5,6\n",
    "data = [[1,4,10],[5,7,8],[1,10,50]]\n",
    "arr = np.array(data)\n",
    "print (type(arr))\n",
    "\n",
    "#filtrado = filter(lambda x: x > 5,data)\n",
    "#print (list(filtrado))\n",
    "\n",
    "indices = np.where(arr > 5)\n",
    "print(indices)\n",
    "#print(indices[0])\n",
    "#for i in indices:\n",
    "#    print(str(arr[i]) + \"\\n\")"
   ]
  },
  {
   "cell_type": "code",
   "execution_count": 71,
   "id": "2eb15ff3-0551-4d18-ba21-248ec747414a",
   "metadata": {
    "scrolled": true
   },
   "outputs": [
    {
     "name": "stdout",
     "output_type": "stream",
     "text": [
      "32\n",
      "STD:0.816496580927726\n",
      "STD:0.816496580927726\n",
      "Mean:2.0\n",
      "Sun:15\n",
      "0.0\n",
      "[[0.87333209]\n",
      " [0.69442335]\n",
      " [0.01609256]\n",
      " [0.99375911]\n",
      " [0.29010592]\n",
      " [0.56885736]\n",
      " [0.0068753 ]\n",
      " [0.96547689]\n",
      " [0.5822705 ]\n",
      " [0.84839195]\n",
      " [0.68789209]\n",
      " [0.96307379]\n",
      " [0.96828553]\n",
      " [0.26112389]\n",
      " [0.36878058]\n",
      " [0.99951992]\n",
      " [0.07601877]\n",
      " [0.7339686 ]\n",
      " [0.58808146]\n",
      " [0.30655113]\n",
      " [0.91498397]\n",
      " [0.09592709]\n",
      " [0.192631  ]\n",
      " [0.97560794]\n",
      " [0.18579117]\n",
      " [0.31956774]\n",
      " [0.34974217]\n",
      " [0.9913029 ]\n",
      " [0.39791139]\n",
      " [0.94686981]\n",
      " [0.90738706]\n",
      " [0.28902003]\n",
      " [0.18562742]\n",
      " [0.5551474 ]\n",
      " [0.7312037 ]\n",
      " [0.08190294]\n",
      " [0.52514683]\n",
      " [0.54304135]\n",
      " [0.5642528 ]\n",
      " [0.03731789]\n",
      " [0.95345468]\n",
      " [0.5365523 ]\n",
      " [0.59299695]\n",
      " [0.54732153]\n",
      " [0.34189516]\n",
      " [0.68473278]\n",
      " [0.06311824]\n",
      " [0.53716524]\n",
      " [0.2702967 ]\n",
      " [0.28637016]\n",
      " [0.16213559]\n",
      " [0.81207321]\n",
      " [0.71429469]\n",
      " [0.21783403]\n",
      " [0.3704895 ]\n",
      " [0.47084994]\n",
      " [0.86992468]\n",
      " [0.21814001]\n",
      " [0.87971051]\n",
      " [0.97207029]\n",
      " [0.0462052 ]\n",
      " [0.40717546]\n",
      " [0.3195747 ]\n",
      " [0.44358375]\n",
      " [0.12684322]\n",
      " [0.12724785]\n",
      " [0.19735279]\n",
      " [0.33908435]\n",
      " [0.1966893 ]\n",
      " [0.30296666]\n",
      " [0.62374238]\n",
      " [0.73158238]\n",
      " [0.66098846]\n",
      " [0.37121901]\n",
      " [0.70259827]\n",
      " [0.32257162]\n",
      " [0.12259157]\n",
      " [0.50633806]\n",
      " [0.27956387]\n",
      " [0.86569921]\n",
      " [0.64367721]\n",
      " [0.49829562]\n",
      " [0.1866273 ]\n",
      " [0.644134  ]\n",
      " [0.91745495]\n",
      " [0.24745426]\n",
      " [0.66702093]\n",
      " [0.69250372]\n",
      " [0.2758    ]\n",
      " [0.14954722]\n",
      " [0.55594805]\n",
      " [0.50055741]\n",
      " [0.52013339]\n",
      " [0.75384551]\n",
      " [0.87003621]\n",
      " [0.35089741]\n",
      " [0.75860456]\n",
      " [0.85690107]\n",
      " [0.32378554]\n",
      " [0.50025799]]\n"
     ]
    }
   ],
   "source": [
    "import numpy as np\n",
    "\n",
    "a = np.array([1,2,3])\n",
    "b = np.array([4,5,6])\n",
    "producto = np.dot(a,b)\n",
    "a_std = np.std(a)\n",
    "print (producto)\n",
    "print (f'STD:{a_std}')\n",
    "print (f'STD:{np.std(b)}')\n",
    "print (f'Mean:{np.mean(a)}')\n",
    "print (f'Sun:{np.sum(b)}')\n",
    "\n",
    "maxtrix = np.random.rand(100,1)\n",
    "print (np.std(maxtrix[0]))\n",
    "print (maxtrix)"
   ]
  },
  {
   "cell_type": "code",
   "execution_count": null,
   "id": "5109e4d6-259f-41b0-bd4a-979222a737ed",
   "metadata": {},
   "outputs": [],
   "source": []
  }
 ],
 "metadata": {
  "kernelspec": {
   "display_name": "Python 3 (ipykernel)",
   "language": "python",
   "name": "python3"
  },
  "language_info": {
   "codemirror_mode": {
    "name": "ipython",
    "version": 3
   },
   "file_extension": ".py",
   "mimetype": "text/x-python",
   "name": "python",
   "nbconvert_exporter": "python",
   "pygments_lexer": "ipython3",
   "version": "3.12.7"
  }
 },
 "nbformat": 4,
 "nbformat_minor": 5
}
